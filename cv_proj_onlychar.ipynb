{
 "cells": [
  {
   "cell_type": "code",
   "execution_count": 1,
   "id": "22ea2b8c",
   "metadata": {
    "execution": {
     "iopub.execute_input": "2024-08-06T18:39:40.284762Z",
     "iopub.status.busy": "2024-08-06T18:39:40.284306Z",
     "iopub.status.idle": "2024-08-06T18:39:46.798816Z",
     "shell.execute_reply": "2024-08-06T18:39:46.797015Z"
    },
    "papermill": {
     "duration": 6.526182,
     "end_time": "2024-08-06T18:39:46.802815",
     "exception": false,
     "start_time": "2024-08-06T18:39:40.276633",
     "status": "completed"
    },
    "tags": []
   },
   "outputs": [],
   "source": [
    "import torch\n",
    "import torch.nn as nn\n",
    "import torch.nn.functional as F\n",
    "import torchvision.transforms as transforms\n",
    "from torchvision.datasets import ImageFolder\n",
    "from torch.utils.data import DataLoader ,random_split\n",
    "import os\n",
    "import numpy as np\n",
    "import cv2\n",
    "from PIL import Image\n",
    "import matplotlib.pyplot as plt\n",
    "from IPython.display import display\n",
    "import ipywidgets as widgets\n",
    "from ipywidgets import FileUpload"
   ]
  },
  {
   "cell_type": "markdown",
   "id": "c9d9310f",
   "metadata": {
    "papermill": {
     "duration": 0.006062,
     "end_time": "2024-08-06T18:39:46.817777",
     "exception": false,
     "start_time": "2024-08-06T18:39:46.811715",
     "status": "completed"
    },
    "tags": []
   },
   "source": [
    "**Data-Preprocessing**"
   ]
  },
  {
   "cell_type": "code",
   "execution_count": 2,
   "id": "c2990bbc",
   "metadata": {
    "execution": {
     "iopub.execute_input": "2024-08-06T18:39:46.832287Z",
     "iopub.status.busy": "2024-08-06T18:39:46.831685Z",
     "iopub.status.idle": "2024-08-06T18:44:19.347140Z",
     "shell.execute_reply": "2024-08-06T18:44:19.345714Z"
    },
    "papermill": {
     "duration": 272.526956,
     "end_time": "2024-08-06T18:44:19.350618",
     "exception": false,
     "start_time": "2024-08-06T18:39:46.823662",
     "status": "completed"
    },
    "tags": []
   },
   "outputs": [],
   "source": [
    "# Defining transformations for the training and test datasets\n",
    "transform = transforms.Compose([\n",
    "    transforms.Grayscale(num_output_channels=1),  # Convert images to grayscale\n",
    "    transforms.Resize((28, 28)),  # Resize images to 28x28 pixels\n",
    "    transforms.ToTensor(),  # Convert images to PyTorch tensors\n",
    "    transforms.Normalize((0.5,), (0.5,))  # Normalize pixel values\n",
    "])\n",
    "\n",
    "# Load the entire dataset\n",
    "data_dir = '/kaggle/input/ocr-dataset/dataset'  # Replace with your dataset directory\n",
    "full_dataset = ImageFolder(data_dir, transform=transform)\n",
    "\n",
    "# Spliting the dataset into training and test sets\n",
    "train_size = int(0.8 * len(full_dataset))\n",
    "test_size = len(full_dataset) - train_size\n",
    "train_dataset, test_dataset = random_split(full_dataset, [train_size, test_size])\n",
    "\n",
    "# Create data loaders\n",
    "batch_size = 64\n",
    "train_loader = DataLoader(train_dataset, batch_size=batch_size, shuffle=True)\n",
    "test_loader = DataLoader(test_dataset, batch_size=batch_size, shuffle=False)\n",
    "\n"
   ]
  },
  {
   "cell_type": "markdown",
   "id": "c91f8e14",
   "metadata": {
    "papermill": {
     "duration": 0.005576,
     "end_time": "2024-08-06T18:44:19.362355",
     "exception": false,
     "start_time": "2024-08-06T18:44:19.356779",
     "status": "completed"
    },
    "tags": []
   },
   "source": [
    "**Model Defination**"
   ]
  },
  {
   "cell_type": "code",
   "execution_count": 3,
   "id": "d270dc4a",
   "metadata": {
    "execution": {
     "iopub.execute_input": "2024-08-06T18:44:19.375385Z",
     "iopub.status.busy": "2024-08-06T18:44:19.374914Z",
     "iopub.status.idle": "2024-08-06T18:44:19.388469Z",
     "shell.execute_reply": "2024-08-06T18:44:19.387259Z"
    },
    "papermill": {
     "duration": 0.023261,
     "end_time": "2024-08-06T18:44:19.391149",
     "exception": false,
     "start_time": "2024-08-06T18:44:19.367888",
     "status": "completed"
    },
    "tags": []
   },
   "outputs": [],
   "source": [
    "# Defining the CNN model\n",
    "class OCRModel(nn.Module):\n",
    "    def __init__(self):\n",
    "        super(OCRModel, self).__init__()\n",
    "        self.conv1 = nn.Conv2d(1, 32, kernel_size=3, stride=1, padding=1)\n",
    "        self.conv2 = nn.Conv2d(32, 64, kernel_size=3, stride=1, padding=1)\n",
    "        self.fc1 = nn.Linear(64 * 7 * 7, 128)\n",
    "        self.fc2 = nn.Linear(128, 62)  # 62 classes for digits + uppercase + lowercase\n",
    "\n",
    "    def forward(self, x):\n",
    "        x = F.relu(self.conv1(x))\n",
    "        x = F.max_pool2d(x, 2, 2)\n",
    "        x = F.relu(self.conv2(x))\n",
    "        x = F.max_pool2d(x, 2, 2)\n",
    "        x = x.view(-1, 64 * 7 * 7)\n",
    "        x = F.relu(self.fc1(x))\n",
    "        x = self.fc2(x)\n",
    "        return x"
   ]
  },
  {
   "cell_type": "code",
   "execution_count": 4,
   "id": "45885273",
   "metadata": {
    "execution": {
     "iopub.execute_input": "2024-08-06T18:44:19.404193Z",
     "iopub.status.busy": "2024-08-06T18:44:19.403740Z",
     "iopub.status.idle": "2024-08-06T18:44:19.437805Z",
     "shell.execute_reply": "2024-08-06T18:44:19.436486Z"
    },
    "papermill": {
     "duration": 0.044036,
     "end_time": "2024-08-06T18:44:19.440846",
     "exception": false,
     "start_time": "2024-08-06T18:44:19.396810",
     "status": "completed"
    },
    "tags": []
   },
   "outputs": [],
   "source": [
    "# Initializing the model, loss function, and optimizer\n",
    "model = OCRModel()\n",
    "criterion = nn.CrossEntropyLoss()\n",
    "optimizer = torch.optim.Adam(model.parameters(), lr=0.001)"
   ]
  },
  {
   "cell_type": "markdown",
   "id": "27de7b28",
   "metadata": {
    "papermill": {
     "duration": 0.005244,
     "end_time": "2024-08-06T18:44:19.451796",
     "exception": false,
     "start_time": "2024-08-06T18:44:19.446552",
     "status": "completed"
    },
    "tags": []
   },
   "source": [
    "**Model Training**"
   ]
  },
  {
   "cell_type": "code",
   "execution_count": 5,
   "id": "a32ad4f7",
   "metadata": {
    "execution": {
     "iopub.execute_input": "2024-08-06T18:44:19.464819Z",
     "iopub.status.busy": "2024-08-06T18:44:19.464304Z",
     "iopub.status.idle": "2024-08-06T19:59:21.805166Z",
     "shell.execute_reply": "2024-08-06T19:59:21.803704Z"
    },
    "papermill": {
     "duration": 4502.356753,
     "end_time": "2024-08-06T19:59:21.814030",
     "exception": false,
     "start_time": "2024-08-06T18:44:19.457277",
     "status": "completed"
    },
    "tags": []
   },
   "outputs": [
    {
     "name": "stdout",
     "output_type": "stream",
     "text": [
      "Epoch [1/10], Loss: 0.7885, Training Accuracy: 80.25%\n",
      "Epoch [2/10], Loss: 0.4322, Training Accuracy: 88.14%\n",
      "Epoch [3/10], Loss: 0.3643, Training Accuracy: 89.66%\n",
      "Epoch [4/10], Loss: 0.3244, Training Accuracy: 90.59%\n",
      "Epoch [5/10], Loss: 0.2950, Training Accuracy: 91.37%\n",
      "Epoch [6/10], Loss: 0.2725, Training Accuracy: 91.84%\n",
      "Epoch [7/10], Loss: 0.2546, Training Accuracy: 92.33%\n",
      "Epoch [8/10], Loss: 0.2422, Training Accuracy: 92.59%\n",
      "Epoch [9/10], Loss: 0.2276, Training Accuracy: 93.00%\n",
      "Epoch [10/10], Loss: 0.2169, Training Accuracy: 93.36%\n"
     ]
    }
   ],
   "source": [
    "# Training loop\n",
    "num_epochs = 10\n",
    "for epoch in range(num_epochs):\n",
    "    model.train()\n",
    "    running_loss = 0.0\n",
    "    correct_train = 0\n",
    "    total_train = 0\n",
    "    for images, labels in train_loader:\n",
    "        # Forward pass\n",
    "        outputs = model(images)\n",
    "        loss = criterion(outputs, labels)\n",
    "\n",
    "        # Backward pass and optimization\n",
    "        optimizer.zero_grad()\n",
    "        loss.backward()\n",
    "        optimizer.step()\n",
    "\n",
    "        running_loss += loss.item()\n",
    "\n",
    "        # Calculate training accuracy\n",
    "        _, predicted_train = torch.max(outputs.data, 1)\n",
    "        total_train += labels.size(0)\n",
    "        correct_train += (predicted_train == labels).sum().item()\n",
    "\n",
    "    # Calculate and print loss and accuracy for the current epoch\n",
    "    train_accuracy = 100 * correct_train / total_train\n",
    "    print(f'Epoch [{epoch+1}/{num_epochs}], Loss: {running_loss/len(train_loader):.4f}, '\n",
    "          f'Training Accuracy: {train_accuracy:.2f}%')"
   ]
  },
  {
   "cell_type": "code",
   "execution_count": 6,
   "id": "76437bb4",
   "metadata": {
    "execution": {
     "iopub.execute_input": "2024-08-06T19:59:21.829485Z",
     "iopub.status.busy": "2024-08-06T19:59:21.829052Z",
     "iopub.status.idle": "2024-08-06T19:59:21.839495Z",
     "shell.execute_reply": "2024-08-06T19:59:21.838018Z"
    },
    "papermill": {
     "duration": 0.0214,
     "end_time": "2024-08-06T19:59:21.842356",
     "exception": false,
     "start_time": "2024-08-06T19:59:21.820956",
     "status": "completed"
    },
    "tags": []
   },
   "outputs": [],
   "source": [
    "# Save the trained model\n",
    "torch.save(model.state_dict(), 'ocr_model.pth')"
   ]
  },
  {
   "cell_type": "markdown",
   "id": "9299f3bf",
   "metadata": {
    "papermill": {
     "duration": 0.006247,
     "end_time": "2024-08-06T19:59:21.855106",
     "exception": false,
     "start_time": "2024-08-06T19:59:21.848859",
     "status": "completed"
    },
    "tags": []
   },
   "source": [
    "**Model Evaluation**"
   ]
  },
  {
   "cell_type": "code",
   "execution_count": 7,
   "id": "219bd2e1",
   "metadata": {
    "execution": {
     "iopub.execute_input": "2024-08-06T19:59:21.870454Z",
     "iopub.status.busy": "2024-08-06T19:59:21.870041Z",
     "iopub.status.idle": "2024-08-06T20:05:16.747978Z",
     "shell.execute_reply": "2024-08-06T20:05:16.746490Z"
    },
    "papermill": {
     "duration": 354.894278,
     "end_time": "2024-08-06T20:05:16.756415",
     "exception": false,
     "start_time": "2024-08-06T19:59:21.862137",
     "status": "completed"
    },
    "tags": []
   },
   "outputs": [
    {
     "name": "stdout",
     "output_type": "stream",
     "text": [
      "Accuracy on test dataset: 90.81%\n"
     ]
    }
   ],
   "source": [
    "# Evaluate the model on the test dataset\n",
    "model.eval()\n",
    "correct = 0\n",
    "total = 0\n",
    "with torch.no_grad():\n",
    "    for images, labels in test_loader:\n",
    "        outputs = model(images)\n",
    "        _, predicted = torch.max(outputs.data, 1)\n",
    "        total += labels.size(0)\n",
    "        correct += (predicted == labels).sum().item()\n",
    "\n",
    "accuracy = 100 * correct / total\n",
    "print(f'Accuracy on test dataset: {accuracy:.2f}%')"
   ]
  },
  {
   "cell_type": "markdown",
   "id": "3b4a2e05",
   "metadata": {
    "papermill": {
     "duration": 0.006419,
     "end_time": "2024-08-06T20:05:16.769880",
     "exception": false,
     "start_time": "2024-08-06T20:05:16.763461",
     "status": "completed"
    },
    "tags": []
   },
   "source": [
    "**load and predict character**"
   ]
  },
  {
   "cell_type": "code",
   "execution_count": 8,
   "id": "df6fcd19",
   "metadata": {
    "execution": {
     "iopub.execute_input": "2024-08-06T20:05:16.785568Z",
     "iopub.status.busy": "2024-08-06T20:05:16.785036Z",
     "iopub.status.idle": "2024-08-06T20:05:16.801938Z",
     "shell.execute_reply": "2024-08-06T20:05:16.800746Z"
    },
    "papermill": {
     "duration": 0.028262,
     "end_time": "2024-08-06T20:05:16.804682",
     "exception": false,
     "start_time": "2024-08-06T20:05:16.776420",
     "status": "completed"
    },
    "tags": []
   },
   "outputs": [],
   "source": [
    "# Load the model\n",
    "model = OCRModel()\n",
    "model.load_state_dict(torch.load('ocr_model.pth'))\n",
    "model.eval()\n",
    "\n",
    "# Function to predict character from an image\n",
    "def predict_character(image_path):\n",
    "    # Load and preprocess the image\n",
    "    image = Image.open(image_path)\n",
    "    image = transform(image).unsqueeze(0)  # Add batch dimension\n",
    "\n",
    "    # Run the image through the model\n",
    "    with torch.no_grad():\n",
    "        output = model(image)\n",
    "        _, predicted = torch.max(output, 1)\n",
    "        character = full_dataset.classes[predicted.item()]\n",
    "\n",
    "    return character"
   ]
  },
  {
   "cell_type": "code",
   "execution_count": 9,
   "id": "029b1d60",
   "metadata": {
    "execution": {
     "iopub.execute_input": "2024-08-06T20:05:16.820860Z",
     "iopub.status.busy": "2024-08-06T20:05:16.820427Z",
     "iopub.status.idle": "2024-08-06T20:05:16.860102Z",
     "shell.execute_reply": "2024-08-06T20:05:16.858639Z"
    },
    "papermill": {
     "duration": 0.051343,
     "end_time": "2024-08-06T20:05:16.862774",
     "exception": false,
     "start_time": "2024-08-06T20:05:16.811431",
     "status": "completed"
    },
    "tags": []
   },
   "outputs": [
    {
     "data": {
      "image/png": "[encoded data removed]",
      "text/plain": [
       "<PIL.PngImagePlugin.PngImageFile image mode=RGB size=40x60>"
      ]
     },
     "metadata": {},
     "output_type": "display_data"
    },
    {
     "name": "stdout",
     "output_type": "stream",
     "text": [
      "Predicted Character: F_U\n"
     ]
    }
   ],
   "source": [
    "# Define the path to the test image\n",
    "test_image_path = '/kaggle/input/ocr-dataset/dataset/F_U/F_U_1001.png'  # Replace with the path to your image\n",
    "\n",
    "# Display the test image\n",
    "test_image = Image.open(test_image_path)\n",
    "display(test_image)\n",
    "\n",
    "# Predict the character\n",
    "predicted_character = predict_character(test_image_path)\n",
    "print(f'Predicted Character: {predicted_character}')"
   ]
  },
  {
   "cell_type": "code",
   "execution_count": null,
   "id": "ac1118d4",
   "metadata": {
    "papermill": {
     "duration": 0.006656,
     "end_time": "2024-08-06T20:05:16.876320",
     "exception": false,
     "start_time": "2024-08-06T20:05:16.869664",
     "status": "completed"
    },
    "tags": []
   },
   "outputs": [],
   "source": []
  }
 ],
 "metadata": {
  "kaggle": {
   "accelerator": "none",
   "dataSources": [
    {
     "datasetId": 5494501,
     "sourceId": 9103937,
     "sourceType": "datasetVersion"
    }
   ],
   "dockerImageVersionId": 30746,
   "isGpuEnabled": false,
   "isInternetEnabled": true,
   "language": "python",
   "sourceType": "notebook"
  },
  "kernelspec": {
   "display_name": "Python 3",
   "language": "python",
   "name": "python3"
  },
  "language_info": {
   "codemirror_mode": {
    "name": "ipython",
    "version": 3
   },
   "file_extension": ".py",
   "mimetype": "text/x-python",
   "name": "python",
   "nbconvert_exporter": "python",
   "pygments_lexer": "ipython3",
   "version": "3.10.13"
  },
  "papermill": {
   "default_parameters": {},
   "duration": 5141.100531,
   "end_time": "2024-08-06T20:05:18.120614",
   "environment_variables": {},
   "exception": null,
   "input_path": "__notebook__.ipynb",
   "output_path": "__notebook__.ipynb",
   "parameters": {},
   "start_time": "2024-08-06T18:39:37.020083",
   "version": "2.5.0"
  }
 },
 "nbformat": 4,
 "nbformat_minor": 5
}
